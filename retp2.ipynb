{
 "cells": [
  {
   "cell_type": "code",
   "execution_count": 2,
   "metadata": {},
   "outputs": [],
   "source": [
    "from simpleai.search import SearchProblem, depth_first, breadth_first, uniform_cost, greedy, astar\n",
    "import networkx as nx\n",
    "import matplotlib.pyplot as plt \n",
    "import numpy as np"
   ]
  },
  {
   "cell_type": "code",
   "execution_count": 3,
   "metadata": {},
   "outputs": [],
   "source": [
    "class Space:\n",
    "    def __init__(self, name, demand, area, x, y, delivered=0):\n",
    "        self.name = name\n",
    "        self.demand = demand\n",
    "        self.delivered = delivered\n",
    "        self.x = x\n",
    "        self.y = y\n",
    "        self.area = area\n",
    "\n",
    "    def __str__(self):\n",
    "        return f\"{self.name} - {self.demand}\""
   ]
  },
  {
   "cell_type": "code",
   "execution_count": 4,
   "metadata": {},
   "outputs": [],
   "source": [
    "class Camion:\n",
    "    def __init__(self, max_capacity, location, shift_duration):\n",
    "        self.max_capacity = max_capacity\n",
    "        self.current_capacity = max_capacity\n",
    "\n",
    "        self.location = location\n",
    "        self.routes = []\n",
    "        self.current_route = []\n",
    "        \n",
    "        self.shift_duration = shift_duration\n",
    "        self.hours = 0\n",
    "\n",
    "        self.shift_count = 0"
   ]
  },
  {
   "cell_type": "code",
   "execution_count": 5,
   "metadata": {},
   "outputs": [],
   "source": [
    "class TSP(SearchProblem):\n",
    "    def init(self, camion):\n",
    "        self.camion = camion\n",
    "        self.environment = environment\n",
    "        self.initial_state = [camion.location, False]\n",
    "        SearchProblem.__init__(self, self.initial_state)\n",
    "        self.goal_state = [\"P18\", True]\n",
    "\n",
    "    def actions(self, current_state, environment):\n",
    "        actions = []\n",
    "        for space in environment:\n",
    "            if space not in current_state:\n",
    "                actions.append(space)\n",
    "        return actions\n",
    "    \n",
    "    def result(self, current_state, action):\n",
    "        current_edge = [current_state[0].name, action]\n",
    "        \n",
    "        if action.name == \"P18\":\n",
    "            self.camion.current_capacity = self.camion.max_capacity\n",
    "            self.camion.current_route.append(current_edge)\n",
    "            self.camion.routes.append(self.camion.current_route)\n",
    "            self.camion.current_route = []\n",
    "        else:\n",
    "            if self.camion.current_capacity >= action.demand - action.delivered:\n",
    "                # Se puede entregar toda la demanda\n",
    "                self.camion.current_capacity -= action.demand - action.delivered\n",
    "                action.delivered = action.demand\n",
    "            else:\n",
    "                # No se puede entregar toda la demanda\n",
    "                action.delivered += self.camion.current_capacity\n",
    "                self.camion.current_capacity = 0\n",
    "            \n",
    "            self.camion.current_route.append(current_edge)\n",
    "\n",
    "        return [action, all(space.delivered == space.demand for space in self.environment)]\n",
    "    \n",
    "    def is_goal(self,state):\n",
    "        return state == self.goal_state\n",
    "    \n",
    "    def cost(self,state1,action,state2):\n",
    "        distance = (state1[0].x - state2[0].x)**2 + (state1[0].y - state2[0].y)**2\n",
    "        time = distance / 10 # 10 km/h\n",
    "        time += 0.5 # Se debe quedar 30 minutos en cada punto.\n",
    "\n",
    "        return time\n",
    "        "
   ]
  },
  {
   "cell_type": "code",
   "execution_count": 6,
   "metadata": {},
   "outputs": [],
   "source": [
    "space_data = {\n",
    "    # \"name\" : (x, y, area)\n",
    "    \"P1\": (-56, -1298, 5.4),\n",
    "    \"P2\": (-602, -1030, 7.52),\n",
    "    \"P3\": (-394, -1042, 8),\n",
    "    \"P4\": (-195, -1046, 8),\n",
    "    \"P5\": (1, -1046, 7.56),\n",
    "    \"P6\": (-814, -932, 4.19),\n",
    "    \"P7\": (-824, -643, 6.28),\n",
    "    \"P8\": (-600, -600, 7.6),\n",
    "    \"P9\": (-399, -639, 8),\n",
    "    \"P10\": (-195, -632, 8),\n",
    "    \"P11\": (0, -600, 7.67),\n",
    "    \"P12\": (56, -334, 5.4),\n",
    "    \"P13\": (-195, -258, 5.98),\n",
    "    \"P14\": (-417, -269, 7.34),\n",
    "    \"P15\": (-794, -258, 7.97),\n",
    "    \"P16\": (408, -158, 5.64),\n",
    "    \"P17\": (189, -43, 6.11),\n",
    "    \"P18\": (0, 0, 7.11), # <--------------------------------------- HQ\n",
    "    \"P19\": (600, 0, 4.92),\n",
    "    \"P20\": (-931, 75, 1.38),\n",
    "    \"P21\": (-808, 75, 8),\n",
    "    \"P22\": (-604, 79, 7.82),\n",
    "    \"P23\": (-403, 136, 5.53),\n",
    "    \"P24\": (-206, 133, 5.64),\n",
    "    \"P25\": (800, 200, 5.05),\n",
    "    \"P26\": (1000, 400, 4.75),\n",
    "    \"P27\": (-927, 445, 1.28),\n",
    "    \"P28\": (-801, 434, 6.64),\n",
    "    \"P29\": (-597, 431, 6.54),\n",
    "    \"P30\": (-349, 380, 6.76),\n",
    "    \"P31\": (153, -492, 1.47),\n",
    "}"
   ]
  },
  {
   "cell_type": "code",
   "execution_count": 7,
   "metadata": {},
   "outputs": [
    {
     "ename": "TypeError",
     "evalue": "SearchProblem.__init__() takes from 1 to 2 positional arguments but 3 were given",
     "output_type": "error",
     "traceback": [
      "\u001b[1;31m---------------------------------------------------------------------------\u001b[0m",
      "\u001b[1;31mTypeError\u001b[0m                                 Traceback (most recent call last)",
      "Cell \u001b[1;32mIn[7], line 10\u001b[0m\n\u001b[0;32m      7\u001b[0m raul \u001b[38;5;241m=\u001b[39m Camion(max_capacity\u001b[38;5;241m=\u001b[39m\u001b[38;5;241m100\u001b[39m, location\u001b[38;5;241m=\u001b[39mspaces[\u001b[38;5;241m17\u001b[39m], shift_duration\u001b[38;5;241m=\u001b[39m\u001b[38;5;241m8\u001b[39m)\n\u001b[0;32m      8\u001b[0m \u001b[38;5;66;03m# Agent\u001b[39;00m\n\u001b[1;32m---> 10\u001b[0m greedy(\u001b[43mTSP\u001b[49m\u001b[43m(\u001b[49m\u001b[43mraul\u001b[49m\u001b[43m,\u001b[49m\u001b[43m \u001b[49m\u001b[43mspaces\u001b[49m\u001b[43m)\u001b[49m)\n",
      "\u001b[1;31mTypeError\u001b[0m: SearchProblem.__init__() takes from 1 to 2 positional arguments but 3 were given"
     ]
    }
   ],
   "source": [
    "# No podemos asumir que todos los espacios tienen la misma demanda\n",
    "# Pero podemos asumir que la demanda de cada espacio es un valor fijo por ahora\n",
    "\n",
    "spaces = [Space(name=key, demand=10, x=value[0], y=value[1], area=value[2]) for key, value in space_data.items()]\n",
    "spaces[17].demand = 0\n",
    "\n",
    "raul = Camion(max_capacity=100, location=spaces[17], shift_duration=8)\n",
    "# Agent\n",
    "\n",
    "greedy(TSP(raul, spaces))"
   ]
  }
 ],
 "metadata": {
  "kernelspec": {
   "display_name": "ML",
   "language": "python",
   "name": "python3"
  },
  "language_info": {
   "codemirror_mode": {
    "name": "ipython",
    "version": 3
   },
   "file_extension": ".py",
   "mimetype": "text/x-python",
   "name": "python",
   "nbconvert_exporter": "python",
   "pygments_lexer": "ipython3",
   "version": "3.10.13"
  }
 },
 "nbformat": 4,
 "nbformat_minor": 2
}

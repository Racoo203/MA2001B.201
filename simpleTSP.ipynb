{
 "cells": [
  {
   "cell_type": "code",
   "execution_count": 40,
   "metadata": {},
   "outputs": [],
   "source": [
    "import networkx as nx \n",
    "import matplotlib.pyplot as plt "
   ]
  },
  {
   "cell_type": "code",
   "execution_count": 41,
   "metadata": {},
   "outputs": [],
   "source": [
    "class Plant:\n",
    "    def __init__(self, name, cost, revenue):\n",
    "        self.name = name\n",
    "        self.cost = cost\n",
    "        self.revenue = revenue\n",
    "\n",
    "    def __str__(self):\n",
    "        return f\"{self.name} - {self.cost} - {self.revenue}\""
   ]
  },
  {
   "cell_type": "code",
   "execution_count": 42,
   "metadata": {},
   "outputs": [],
   "source": [
    "class Space:\n",
    "    def __init__(self, name, demand, delivered=0):\n",
    "        self.name = name\n",
    "        self.demand = demand\n",
    "        self.delivered = delivered\n",
    "\n",
    "    def __str__(self):\n",
    "        return f\"{self.name} - {self.demand}\""
   ]
  },
  {
   "cell_type": "code",
   "execution_count": 50,
   "metadata": {},
   "outputs": [],
   "source": [
    "class Agent:\n",
    "    def __init__(self, max_capacity, location):\n",
    "        self.max_capacity = max_capacity\n",
    "        self.current_capacity = max_capacity\n",
    "        self.location = location\n",
    "    \n",
    "    def next(self):\n",
    "\n",
    "        # Hay lugares por visitar?\n",
    "        # Todos los nodos\n",
    "        spaces = [Space('HQ', 0), Space('A', 2), Space('B', 3), Space('C', 4), Space('D', 7)]\n",
    "\n",
    "        # Espacios de busqueda\n",
    "        search_space = [space for space in spaces if (space.name != self.location and space.delivered < space.demand and space.name != 'HQ')]\n",
    "\n",
    "        if search_space:\n",
    "            # Si hay lugares por visitar, se selecciona el siguiente espacio a visitar\n",
    "\n",
    "            next_space = min(search_space, key=lambda space: space.demand - space.delivered)\n",
    "\n",
    "            if self.current_capacity >= next_space.demand - next_space.delivered:\n",
    "                # Se puede entregar toda la demanda\n",
    "                self.current_capacity -= next_space.demand - next_space.delivered\n",
    "                next_space.delivered = next_space.demand\n",
    "\n",
    "\n",
    "            # ME QUEDE AQUI - TOCA DORMIR\n",
    "\n",
    "        # Actualizacion de estado\n",
    "        else:\n",
    "            # No hay lugares por visitar, por lo que hemos terminado\n",
    "            print('No hay lugares por visitar, por lo que hemos terminado.')\n",
    "            return\n",
    "\n",
    "        # Seleccion de espacio\n",
    "        \n",
    "\n",
    "        for space in search_space:\n",
    "            print(space)\n",
    "\n",
    "        # print(max_space)"
   ]
  },
  {
   "cell_type": "code",
   "execution_count": 52,
   "metadata": {},
   "outputs": [
    {
     "name": "stdout",
     "output_type": "stream",
     "text": [
      "A - 2\n",
      "B - 3\n",
      "C - 4\n",
      "D - 7\n"
     ]
    }
   ],
   "source": [
    "raul = Agent(5, 'HQ')\n",
    "for i in range(1):\n",
    "    raul.next()"
   ]
  },
  {
   "cell_type": "code",
   "execution_count": null,
   "metadata": {},
   "outputs": [],
   "source": [
    "def visualize(edges): \n",
    "    G = nx.Graph() \n",
    "    G.add_edges_from(edges) \n",
    "    nx.draw_networkx(G) \n",
    "    plt.show() "
   ]
  },
  {
   "cell_type": "code",
   "execution_count": null,
   "metadata": {},
   "outputs": [
    {
     "data": {
      "image/png": "[encoded data removed]",
      "text/plain": [
       "<Figure size 640x480 with 1 Axes>"
      ]
     },
     "metadata": {},
     "output_type": "display_data"
    }
   ],
   "source": [
    "visualize([[0,1]])"
   ]
  }
 ],
 "metadata": {
  "kernelspec": {
   "display_name": "DS",
   "language": "python",
   "name": "python3"
  },
  "language_info": {
   "codemirror_mode": {
    "name": "ipython",
    "version": 3
   },
   "file_extension": ".py",
   "mimetype": "text/x-python",
   "name": "python",
   "nbconvert_exporter": "python",
   "pygments_lexer": "ipython3",
   "version": "3.12.2"
  }
 },
 "nbformat": 4,
 "nbformat_minor": 2
}

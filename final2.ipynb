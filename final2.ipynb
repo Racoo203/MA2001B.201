{
 "cells": [
  {
   "cell_type": "code",
   "execution_count": null,
   "metadata": {},
   "outputs": [],
   "source": [
    "import pandas as pd\n",
    "import numpy as np\n",
    "import matplotlib.pyplot as plt\n",
    "import networkx as nx\n",
    "from pulp import *"
   ]
  },
  {
   "cell_type": "code",
   "execution_count": null,
   "metadata": {},
   "outputs": [],
   "source": [
    "space_data = {\n",
    "    # \"name\" : (x, y, area)\n",
    "    \"P1\": (-56, -1298, 5.4),\n",
    "    \"P2\": (-602, -1030, 7.52),\n",
    "    \"P3\": (-394, -1042, 8),\n",
    "    \"P4\": (-195, -1046, 8),\n",
    "    \"P5\": (1, -1046, 7.56),\n",
    "    \"P6\": (-814, -932, 4.19),\n",
    "    \"P7\": (-824, -643, 6.28),\n",
    "    \"P8\": (-600, -600, 7.6),\n",
    "    \"P9\": (-399, -639, 8),\n",
    "    \"P10\": (-195, -632, 8),\n",
    "    \"P11\": (0, -600, 7.67),\n",
    "    \"P12\": (56, -334, 5.4),\n",
    "    \"P13\": (-195, -258, 5.98),\n",
    "    \"P14\": (-417, -269, 7.34),\n",
    "    \"P15\": (-794, -258, 7.97),\n",
    "    \"P16\": (408, -158, 5.64),\n",
    "    \"P17\": (189, -43, 6.11),\n",
    "    \"P18\": (0, 0, 7.11), # <--------------------------------------- HQ\n",
    "    \"P19\": (600, 0, 4.92),\n",
    "    \"P20\": (-931, 75, 1.38),\n",
    "    \"P21\": (-808, 75, 8),\n",
    "    \"P22\": (-604, 79, 7.82),\n",
    "    \"P23\": (-403, 136, 5.53),\n",
    "    \"P24\": (-206, 133, 5.64),\n",
    "    \"P25\": (800, 200, 5.05),\n",
    "    \"P26\": (1000, 400, 4.75),\n",
    "    \"P27\": (-927, 445, 1.28),\n",
    "    \"P28\": (-801, 434, 6.64),\n",
    "    \"P29\": (-597, 431, 6.54),\n",
    "    \"P30\": (-349, 380, 6.76),\n",
    "    \"P31\": (153, -492, 1.47),\n",
    "}"
   ]
  },
  {
   "cell_type": "code",
   "execution_count": null,
   "metadata": {},
   "outputs": [],
   "source": [
    "spaces = pd.DataFrame(space_data).T\n",
    "spaces.columns = [\"x\", \"y\", \"area\"]\n",
    "spaces.reset_index(inplace=True)\n",
    "spaces.head()"
   ]
  },
  {
   "cell_type": "code",
   "execution_count": null,
   "metadata": {},
   "outputs": [],
   "source": [
    "dist = []\n",
    "for j in range(len(spaces)):\n",
    "    temp = []\n",
    "    temp.append(spaces.index[j])\n",
    "    for k in range(len(spaces)):\n",
    "        if (j != k):\n",
    "            distance = np.linalg.norm(spaces.iloc[j, [1,2]] - spaces.iloc[k, [1,2]] + 0.000001) / 1000\n",
    "        else:\n",
    "            distance = 9999\n",
    "\n",
    "        dist.append(distance)"
   ]
  },
  {
   "cell_type": "code",
   "execution_count": null,
   "metadata": {},
   "outputs": [],
   "source": [
    "# Define the problem\n",
    "tsp1 = LpProblem(\"Traveling Salesman Problem\", LpMinimize)\n",
    "\n",
    "# Define decision variables\n",
    "optcr = 0.0001\n",
    "i = list(range(1, 32))\n",
    "j = list(range(1, 32))\n",
    "\n",
    "x = LpVariable.dicts(\"x\", [(i_val, j_val) for i_val in i for j_val in j], cat=\"Binary\")\n",
    "u = LpVariable.dicts(\"u\", i, lowBound=0, cat=\"Continuous\")\n",
    "m = LpVariable(\"m\", lowBound=0, cat=\"Integer\")\n",
    "\n",
    "# Define objective function\n",
    "tsp1 += lpSum(x[(i, j)] * (dist[i-1][j-1]/10 + 0.5) for i in range(1, 32) for j in range(1, 32)), \"Objective Function\"\n",
    "\n",
    "# Define constraints\n",
    "tsp1 += lpSum(x[(i, j)] for i in range(1, 32) if i != 18 for j in range(1, 32) if j != 18) == 1, \"r1\"\n",
    "tsp1 += lpSum(x[(i, j)] for i in range(1, 32) if i != 18 for j in range(1, 32) if j != 18) == 1, \"r2\"\n",
    "for j_val in range(1, 32):\n",
    "    if j_val != 18:\n",
    "        tsp1 += lpSum(x[(i_val, j_val)] for i_val in range(1, 32)) == 1, f\"r3_{j_val}\"\n",
    "        tsp1 += lpSum(x[(i_val, j_val)] for i_val in range(1, 32)) == 1, f\"r4_{j_val}\"\n",
    "tsp1 += lpSum(x[(i, j)] * (dist[i-1][j-1]/10 + 0.5) for i in range(1, 32) for j in range(1, 32)) <= 8 * 3, \"r5\"\n",
    "tsp1 += lpSum(dist[i-1][j-1] * x[(i, j)] for i in range(1, 32) for j in range(1, 32)) >= 0, \"r6\"\n",
    "\n",
    "for i_val in range(1, 32):\n",
    "    for j_val in range(1, 32):\n",
    "        if i_val != 18 and j_val != 18 and i_val != j_val:\n",
    "            tsp1 += u[i_val] - u[j_val] + 31 * x[(i_val, j_val)] <= 30, f\"subtours_{i_val}_{j_val}\"\n",
    "\n",
    "# Solve the problem\n",
    "tsp1.solve()\n",
    "\n",
    "# Print the results\n",
    "print(\"Status:\", LpStatus[tsp1.status])\n",
    "print(\"Objective Value:\", value(tsp1.objective))\n",
    "for v in tsp1.variables():\n",
    "    print(v.name, \"=\", v.varValue)"
   ]
  }
 ],
 "metadata": {
  "kernelspec": {
   "display_name": "ML",
   "language": "python",
   "name": "python3"
  },
  "language_info": {
   "codemirror_mode": {
    "name": "ipython",
    "version": 3
   },
   "file_extension": ".py",
   "mimetype": "text/x-python",
   "name": "python",
   "nbconvert_exporter": "python",
   "pygments_lexer": "ipython3",
   "version": "3.10.13"
  }
 },
 "nbformat": 4,
 "nbformat_minor": 2
}
